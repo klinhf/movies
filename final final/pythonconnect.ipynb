{
 "cells": [
  {
   "cell_type": "markdown",
   "id": "1434f2f0",
   "metadata": {},
   "source": [
    "## **Database Connection**"
   ]
  },
  {
   "cell_type": "code",
   "execution_count": 57,
   "id": "8ef9430f",
   "metadata": {},
   "outputs": [],
   "source": [
    "import mysql.connector\n",
    "from datetime import datetime\n",
    "from tabulate import tabulate\n",
    "\n",
    "db = mysql.connector.connect(\n",
    "    host=\"localhost\",\n",
    "    user=\"root\",\n",
    "    password=\"haphuong300505\",\n",
    "    database=\"CinemaDB\"\n",
    ")\n",
    "\n",
    "cursor = db.cursor()"
   ]
  },
  {
   "cell_type": "markdown",
   "id": "fb67e9c0",
   "metadata": {},
   "source": [
    "## **Booking System**"
   ]
  },
  {
   "cell_type": "markdown",
   "id": "682adf5a",
   "metadata": {},
   "source": [
    "### **Book a seat with optional snack and discount**"
   ]
  },
  {
   "cell_type": "code",
   "execution_count": 58,
   "id": "e6deb615",
   "metadata": {},
   "outputs": [],
   "source": [
    "import json\n",
    "\n",
    "def book_tickets_with_optional_snack(customer_name, phone, email, payment_method,\n",
    "                                     seat_list, snack_list=None, discount_code=None):\n",
    "    try:\n",
    "        seat_json = json.dumps(seat_list)\n",
    "        snack_json = json.dumps(snack_list) if snack_list else None\n",
    "\n",
    "        args = (\n",
    "            customer_name,\n",
    "            phone,\n",
    "            email,\n",
    "            payment_method,\n",
    "            seat_json,\n",
    "            snack_json,\n",
    "            discount_code\n",
    "        )\n",
    "\n",
    "        cursor.callproc(\"BookTicketsWithOptionalSnack\", args)\n",
    "        db.commit()\n",
    "        print(\"Booking successful!\")\n",
    "\n",
    "    except mysql.connector.Error as err:\n",
    "        print(\"Error during booking:\", err)\n"
   ]
  },
  {
   "cell_type": "code",
   "execution_count": 59,
   "id": "8d2e46b0",
   "metadata": {},
   "outputs": [
    {
     "name": "stdout",
     "output_type": "stream",
     "text": [
      "Booking successful!\n"
     ]
    }
   ],
   "source": [
    "seat_list = [[9, 76], [9, 77]]\n",
    "snack_list = [[\"Hotdog\", 2], [\"Soda\", 1]]\n",
    "\n",
    "book_tickets_with_optional_snack(\n",
    "    customer_name=\"Ethan Kim\",\n",
    "    phone=\"5678901234\",\n",
    "    email=\"ethan@gmail.com\",\n",
    "    payment_method=\"Credit Card\",\n",
    "    seat_list=seat_list,\n",
    "    snack_list=snack_list,\n",
    "    discount_code=\"STUDENT15\"\n",
    ")\n"
   ]
  },
  {
   "cell_type": "markdown",
   "id": "d4de32ea",
   "metadata": {},
   "source": [
    "### **Cancel booking by BookingID**"
   ]
  },
  {
   "cell_type": "code",
   "execution_count": 33,
   "id": "84824651",
   "metadata": {},
   "outputs": [],
   "source": [
    "def cancel_booking(booking_id):\n",
    "    try:\n",
    "        cursor.callproc(\"CancelBooking\", (booking_id,))\n",
    "        db.commit()\n",
    "        print(\"Booking cancelled successfully.\")\n",
    "    except mysql.connector.Error as err:\n",
    "        print(\"Error:\", err)"
   ]
  },
  {
   "cell_type": "code",
   "execution_count": 34,
   "id": "9c0ba431",
   "metadata": {},
   "outputs": [
    {
     "name": "stdout",
     "output_type": "stream",
     "text": [
      "Booking cancelled successfully.\n"
     ]
    }
   ],
   "source": [
    "cancel_booking(11)"
   ]
  },
  {
   "cell_type": "markdown",
   "id": "9a9b8d09",
   "metadata": {},
   "source": [
    "### **Apply discount code to existing BookingTicket**"
   ]
  },
  {
   "cell_type": "code",
   "execution_count": 35,
   "id": "e84b2f77",
   "metadata": {},
   "outputs": [],
   "source": [
    "def apply_discount_code(discount_code, booking_ticket_id):\n",
    "    try:\n",
    "        cursor.callproc(\"ApplyDiscountCode\", (discount_code, booking_ticket_id))\n",
    "        for result in cursor.stored_results():\n",
    "            print(result.fetchall())\n",
    "        db.commit()\n",
    "    except mysql.connector.Error as err:\n",
    "        print(\"Error:\", err)"
   ]
  },
  {
   "cell_type": "code",
   "execution_count": 36,
   "id": "817f209e",
   "metadata": {},
   "outputs": [
    {
     "name": "stdout",
     "output_type": "stream",
     "text": [
      "[('Giá sau khi giảm: 135,000.00',)]\n"
     ]
    }
   ],
   "source": [
    "apply_discount_code(\"FLASH25\", 1)"
   ]
  },
  {
   "cell_type": "markdown",
   "id": "ee2cae3b",
   "metadata": {},
   "source": [
    "### **Generate screening report**"
   ]
  },
  {
   "cell_type": "code",
   "execution_count": 37,
   "id": "975b4ab7",
   "metadata": {},
   "outputs": [],
   "source": [
    "from tabulate import tabulate\n",
    "\n",
    "def get_screening_report():\n",
    "    query = \"\"\"\n",
    "    SELECT \n",
    "        s.ScreeningID,\n",
    "        m.MovieTitle,\n",
    "        m.Genre,\n",
    "        m.DurationMinutes,\n",
    "        r.RoomName,\n",
    "        r.RoomType,\n",
    "        r.Capacity,\n",
    "        s.ScreeningDate,\n",
    "        s.ScreeningTime,\n",
    "        COUNT(bt.BookingTicketsID) AS TicketsSold,\n",
    "        COALESCE(SUM(tp.Price), 0) AS TotalTicketRevenue\n",
    "    FROM Screenings s\n",
    "    JOIN Movies m ON s.MovieID = m.MovieID\n",
    "    JOIN CinemaRooms r ON s.RoomID = r.RoomID\n",
    "    LEFT JOIN BookingTickets bt ON s.ScreeningID = bt.ScreeningID\n",
    "    LEFT JOIN TicketPrice tp ON bt.PricingID = tp.PricingID\n",
    "    GROUP BY s.ScreeningID, m.MovieTitle, m.Genre, m.DurationMinutes,\n",
    "             r.RoomName, r.RoomType, r.Capacity, s.ScreeningDate, s.ScreeningTime\n",
    "    ORDER BY s.ScreeningDate, s.ScreeningTime;\n",
    "    \"\"\"\n",
    "    cursor.execute(query)\n",
    "    rows = cursor.fetchall()\n",
    "    headers = [\n",
    "        \"Screening ID\", \"Movie Title\", \"Genre\", \"Duration (min)\",\n",
    "        \"Room\", \"Room Type\", \"Capacity\", \"Date\", \"Time\", \n",
    "        \"Tickets Sold\", \"Total Revenue\"\n",
    "    ]\n",
    "    print(tabulate(rows, headers=headers, tablefmt=\"grid\"))\n"
   ]
  },
  {
   "cell_type": "code",
   "execution_count": 38,
   "id": "9650d5e1",
   "metadata": {},
   "outputs": [
    {
     "name": "stdout",
     "output_type": "stream",
     "text": [
      "+----------------+-----------------------------------------------------------------------+----------+------------------+--------+-------------+------------+------------+----------+----------------+-----------------+\n",
      "|   Screening ID | Movie Title                                                           | Genre    |   Duration (min) | Room   | Room Type   |   Capacity | Date       | Time     |   Tickets Sold |   Total Revenue |\n",
      "+================+=======================================================================+==========+==================+========+=============+============+============+==========+================+=================+\n",
      "|              6 | A Minecraft Movie                                                     | Family   |              101 | Room F | VIP         |         10 | 2025-05-10 | 11:00:00 |              3 |          540000 |\n",
      "+----------------+-----------------------------------------------------------------------+----------+------------------+--------+-------------+------------+------------+----------+----------------+-----------------+\n",
      "|             10 | Until Dawn                                                            | Horror   |              104 | Room D | Standard    |         20 | 2025-05-10 | 11:30:00 |              2 |          200000 |\n",
      "+----------------+-----------------------------------------------------------------------+----------+------------------+--------+-------------+------------+------------+----------+----------------+-----------------+\n",
      "|              1 | Crayon Shin-chan: Shrouded in Mystery! The Flowers of Tenkasu Academy | Family   |              104 | Room A | Basic       |         30 | 2025-05-11 | 18:00:00 |              0 |               0 |\n",
      "+----------------+-----------------------------------------------------------------------+----------+------------------+--------+-------------+------------+------------+----------+----------------+-----------------+\n",
      "|              2 | Night Of The Zoopocalypse                                             | Family   |               91 | Room B | Basic       |         30 | 2025-05-12 | 12:30:00 |              8 |          800000 |\n",
      "+----------------+-----------------------------------------------------------------------+----------+------------------+--------+-------------+------------+------------+----------+----------------+-----------------+\n",
      "|              3 | ThunderBolts                                                          | Action   |              126 | Room C | Standard    |         20 | 2025-05-12 | 15:00:00 |              0 |               0 |\n",
      "+----------------+-----------------------------------------------------------------------+----------+------------------+--------+-------------+------------+------------+----------+----------------+-----------------+\n",
      "|              4 | Doraemon: Nobita Art World Tales                                      | Family   |              105 | Room D | Standard    |         20 | 2025-05-12 | 17:00:00 |              0 |               0 |\n",
      "+----------------+-----------------------------------------------------------------------+----------+------------------+--------+-------------+------------+------------+----------+----------------+-----------------+\n",
      "|              5 | Detective Kien: The Headless Horror                                   | Thriller |              131 | Room E | VIP         |         10 | 2025-05-13 | 19:00:00 |              2 |          360000 |\n",
      "+----------------+-----------------------------------------------------------------------+----------+------------------+--------+-------------+------------+------------+----------+----------------+-----------------+\n",
      "|              8 | Tunnel: Sun in the Dark                                               | History  |              128 | Room B | Basic       |         30 | 2025-05-14 | 18:30:00 |              0 |               0 |\n",
      "+----------------+-----------------------------------------------------------------------+----------+------------------+--------+-------------+------------+------------+----------+----------------+-----------------+\n",
      "|              7 | Holy Night: Demon Hunters                                             | Action   |               91 | Room A | Basic       |         30 | 2025-05-22 | 16:30:00 |              0 |               0 |\n",
      "+----------------+-----------------------------------------------------------------------+----------+------------------+--------+-------------+------------+------------+----------+----------------+-----------------+\n",
      "|              9 | Peg O’ My Heart                                                       | Crime    |               98 | Room C | Standard    |         20 | 2025-05-23 | 20:00:00 |              1 |          100000 |\n",
      "+----------------+-----------------------------------------------------------------------+----------+------------------+--------+-------------+------------+------------+----------+----------------+-----------------+\n",
      "|             11 | Until Dawn                                                            | Horror   |              104 | Room F | VIP         |         10 | 2026-01-10 | 12:00:00 |              0 |               0 |\n",
      "+----------------+-----------------------------------------------------------------------+----------+------------------+--------+-------------+------------+------------+----------+----------------+-----------------+\n"
     ]
    }
   ],
   "source": [
    "get_screening_report()"
   ]
  },
  {
   "cell_type": "markdown",
   "id": "07493238",
   "metadata": {},
   "source": [
    "### **Generate sales report**"
   ]
  },
  {
   "cell_type": "code",
   "execution_count": 45,
   "id": "45eb5f59",
   "metadata": {},
   "outputs": [],
   "source": [
    "def get_sales_report():\n",
    "    query = \"\"\"\n",
    "    SELECT \n",
    "        DATE(p.PaymentDate) AS PaymentDate,\n",
    "        COUNT(p.PaymentID) AS TotalPayments,\n",
    "        COALESCE(SUM(tp.Price), 0) AS TicketRevenue,\n",
    "        COALESCE(SUM(bs.TotalAmount), 0) AS SnackRevenue,\n",
    "        SUM(p.Amount) AS TotalRevenue\n",
    "    FROM Payments p\n",
    "    LEFT JOIN Bookings b ON p.BookingID = b.BookingID\n",
    "    LEFT JOIN BookingTickets bt ON b.BookingID = bt.BookingID\n",
    "    LEFT JOIN TicketPrice tp ON bt.PricingID = tp.PricingID\n",
    "    LEFT JOIN BookingSnacks bs ON b.BookingID = bs.BookingID\n",
    "    WHERE p.Status = 'Paid'\n",
    "    GROUP BY DATE(p.PaymentDate)\n",
    "    ORDER BY PaymentDate DESC;\n",
    "    \"\"\"\n",
    "    cursor.execute(query)\n",
    "    raw_rows = cursor.fetchall()\n",
    "\n",
    "    # Format rows to avoid scientific notation\n",
    "    formatted_rows = [\n",
    "        [\n",
    "            row[0],                                \n",
    "            row[1],                               \n",
    "            f\"{row[2]:,.0f}\",              \n",
    "            f\"{row[3]:,.0f}\",                     \n",
    "            f\"{row[4]:,.0f}\"                   \n",
    "        ]\n",
    "        for row in raw_rows\n",
    "    ]\n",
    "\n",
    "    headers = [\n",
    "        \"Payment Date\",\n",
    "        \"Total Successful Payments\",\n",
    "        \"Ticket Revenue (VND)\",\n",
    "        \"Snack Revenue (VND)\",\n",
    "        \"Total Revenue (VND)\"\n",
    "    ]\n",
    "\n",
    "    print(tabulate(formatted_rows, headers=headers, tablefmt=\"grid\"))\n"
   ]
  },
  {
   "cell_type": "code",
   "execution_count": 46,
   "id": "a0cb34f4",
   "metadata": {},
   "outputs": [
    {
     "name": "stdout",
     "output_type": "stream",
     "text": [
      "+----------------+-----------------------------+------------------------+-----------------------+-----------------------+\n",
      "| Payment Date   |   Total Successful Payments | Ticket Revenue (VND)   | Snack Revenue (VND)   | Total Revenue (VND)   |\n",
      "+================+=============================+========================+=======================+=======================+\n",
      "| 2025-05-17     |                           2 | 100,000                | 60,000                | 230,000               |\n",
      "+----------------+-----------------------------+------------------------+-----------------------+-----------------------+\n",
      "| 2025-05-14     |                           1 | 0                      | 0                     | 100,000               |\n",
      "+----------------+-----------------------------+------------------------+-----------------------+-----------------------+\n",
      "| 2025-05-13     |                           2 | 360,000                | 60,000                | 780,000               |\n",
      "+----------------+-----------------------------+------------------------+-----------------------+-----------------------+\n",
      "| 2025-05-12     |                           4 | 400,000                | 240,000               | 1,840,000             |\n",
      "+----------------+-----------------------------+------------------------+-----------------------+-----------------------+\n",
      "| 2025-05-11     |                           2 | 200,000                | 80,000                | 480,000               |\n",
      "+----------------+-----------------------------+------------------------+-----------------------+-----------------------+\n",
      "| 2025-05-10     |                           3 | 540,000                | 180,000               | 1,800,000             |\n",
      "+----------------+-----------------------------+------------------------+-----------------------+-----------------------+\n"
     ]
    }
   ],
   "source": [
    "get_sales_report()"
   ]
  },
  {
   "cell_type": "code",
   "execution_count": 47,
   "id": "7e420762",
   "metadata": {},
   "outputs": [],
   "source": [
    "cursor.close()\n",
    "db.close()"
   ]
  }
 ],
 "metadata": {
  "kernelspec": {
   "display_name": "env",
   "language": "python",
   "name": "python3"
  },
  "language_info": {
   "codemirror_mode": {
    "name": "ipython",
    "version": 3
   },
   "file_extension": ".py",
   "mimetype": "text/x-python",
   "name": "python",
   "nbconvert_exporter": "python",
   "pygments_lexer": "ipython3",
   "version": "3.13.1"
  }
 },
 "nbformat": 4,
 "nbformat_minor": 5
}
